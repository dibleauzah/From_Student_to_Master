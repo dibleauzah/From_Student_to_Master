{
  "nbformat": 4,
  "nbformat_minor": 0,
  "metadata": {
    "colab": {
      "provenance": [],
      "machine_shape": "hm",
      "include_colab_link": true
    },
    "kernelspec": {
      "name": "python3",
      "display_name": "Python 3"
    },
    "accelerator": "GPU"
  },
  "cells": [
    {
      "cell_type": "markdown",
      "metadata": {
        "id": "view-in-github",
        "colab_type": "text"
      },
      "source": [
        "<a href=\"https://colab.research.google.com/github/dibleauzah/Final-Public-2023/blob/main/UberCT_Part_2_companion_notebook.ipynb\" target=\"_parent\"><img src=\"https://colab.research.google.com/assets/colab-badge.svg\" alt=\"Open In Colab\"/></a>"
      ]
    },
    {
      "cell_type": "markdown",
      "metadata": {
        "id": "QRB2VJf_FbDu"
      },
      "source": [
        "# Part 2: Stepping up our game\n",
        "\n",
        "This notebook is designed to accompany this blog post https://datasciencecastnet.home.blog/2019/10/21/zindi-uberct-part-2-stepping-up/.\n",
        "\n",
        "It will take you through adding some extra features, creating a deep learning model with fastai and making a submission."
      ]
    },
    {
      "cell_type": "markdown",
      "metadata": {
        "id": "4Dk1QqRQ9vaF"
      },
      "source": [
        "# Load data"
      ]
    },
    {
      "cell_type": "markdown",
      "metadata": {
        "id": "q1A0QCjeFwys"
      },
      "source": [
        "Upload the train.csv and road_segments.zip files from Zindi, as well as the weather.csv file described in the blog post (or available for download here ADD LINK)"
      ]
    },
    {
      "cell_type": "code",
      "metadata": {
        "id": "1sSLFIJk9xLA"
      },
      "source": [
        "import pandas as pd\n",
        "import numpy as np\n",
        "from matplotlib import pyplot as plt"
      ],
      "execution_count": null,
      "outputs": []
    },
    {
      "cell_type": "code",
      "metadata": {
        "id": "jMzywTjbXnmE"
      },
      "source": [
        "from sklearn.metrics import log_loss, f1_score"
      ],
      "execution_count": null,
      "outputs": []
    },
    {
      "cell_type": "code",
      "metadata": {
        "id": "NOYTLTQa9z6A",
        "outputId": "b22af039-ca9c-4510-faed-05f61f09b8fe",
        "colab": {
          "base_uri": "https://localhost:8080/",
          "height": 204
        }
      },
      "source": [
        "data = pd.read_csv('train.csv',\n",
        "                   parse_dates = ['Occurrence Local Date Time'])\n",
        "data.head()"
      ],
      "execution_count": null,
      "outputs": [
        {
          "output_type": "execute_result",
          "data": {
            "text/html": [
              "<div>\n",
              "<style scoped>\n",
              "    .dataframe tbody tr th:only-of-type {\n",
              "        vertical-align: middle;\n",
              "    }\n",
              "\n",
              "    .dataframe tbody tr th {\n",
              "        vertical-align: top;\n",
              "    }\n",
              "\n",
              "    .dataframe thead th {\n",
              "        text-align: right;\n",
              "    }\n",
              "</style>\n",
              "<table border=\"1\" class=\"dataframe\">\n",
              "  <thead>\n",
              "    <tr style=\"text-align: right;\">\n",
              "      <th></th>\n",
              "      <th>EventId</th>\n",
              "      <th>Occurrence Local Date Time</th>\n",
              "      <th>Reporting Agency</th>\n",
              "      <th>Cause</th>\n",
              "      <th>Subcause</th>\n",
              "      <th>Status</th>\n",
              "      <th>longitude</th>\n",
              "      <th>latitude</th>\n",
              "      <th>road_segment_id</th>\n",
              "      <th>isAccident</th>\n",
              "      <th>isPedestrian</th>\n",
              "    </tr>\n",
              "  </thead>\n",
              "  <tbody>\n",
              "    <tr>\n",
              "      <th>0</th>\n",
              "      <td>60558</td>\n",
              "      <td>2016-01-01 00:53:31</td>\n",
              "      <td>Cam</td>\n",
              "      <td>Stationary Vehicle</td>\n",
              "      <td>Vehicle On Shoulder</td>\n",
              "      <td>Closed</td>\n",
              "      <td>18.540896</td>\n",
              "      <td>-33.888275</td>\n",
              "      <td>S0B3CGQ</td>\n",
              "      <td>False</td>\n",
              "      <td>False</td>\n",
              "    </tr>\n",
              "    <tr>\n",
              "      <th>1</th>\n",
              "      <td>60559</td>\n",
              "      <td>2016-01-01 00:54:46</td>\n",
              "      <td>CAMERA</td>\n",
              "      <td>Accident</td>\n",
              "      <td>With A Fixed Object</td>\n",
              "      <td>Closed</td>\n",
              "      <td>18.930756</td>\n",
              "      <td>-34.140857</td>\n",
              "      <td>RYJYAPI</td>\n",
              "      <td>True</td>\n",
              "      <td>False</td>\n",
              "    </tr>\n",
              "    <tr>\n",
              "      <th>2</th>\n",
              "      <td>60560</td>\n",
              "      <td>2016-01-01 02:26:16</td>\n",
              "      <td>Law Enforcement</td>\n",
              "      <td>Accident</td>\n",
              "      <td>Multi Vehicle</td>\n",
              "      <td>Closed</td>\n",
              "      <td>18.553358</td>\n",
              "      <td>-33.959154</td>\n",
              "      <td>U3KP57C</td>\n",
              "      <td>True</td>\n",
              "      <td>False</td>\n",
              "    </tr>\n",
              "    <tr>\n",
              "      <th>3</th>\n",
              "      <td>60561</td>\n",
              "      <td>2016-01-01 02:56:26</td>\n",
              "      <td>CAMERA</td>\n",
              "      <td>Stationary Vehicle</td>\n",
              "      <td>Vehicle On Shoulder</td>\n",
              "      <td>Closed</td>\n",
              "      <td>18.677556</td>\n",
              "      <td>-33.895258</td>\n",
              "      <td>RY0TRQ8</td>\n",
              "      <td>False</td>\n",
              "      <td>False</td>\n",
              "    </tr>\n",
              "    <tr>\n",
              "      <th>4</th>\n",
              "      <td>60562</td>\n",
              "      <td>2016-01-01 03:40:48</td>\n",
              "      <td>CAMERA</td>\n",
              "      <td>Accident</td>\n",
              "      <td>Multi Vehicle</td>\n",
              "      <td>Closed</td>\n",
              "      <td>18.837132</td>\n",
              "      <td>-34.087051</td>\n",
              "      <td>8LOVJZ3</td>\n",
              "      <td>True</td>\n",
              "      <td>False</td>\n",
              "    </tr>\n",
              "  </tbody>\n",
              "</table>\n",
              "</div>"
            ],
            "text/plain": [
              "   EventId Occurrence Local Date Time  ... isAccident isPedestrian\n",
              "0    60558        2016-01-01 00:53:31  ...      False        False\n",
              "1    60559        2016-01-01 00:54:46  ...       True        False\n",
              "2    60560        2016-01-01 02:26:16  ...       True        False\n",
              "3    60561        2016-01-01 02:56:26  ...      False        False\n",
              "4    60562        2016-01-01 03:40:48  ...       True        False\n",
              "\n",
              "[5 rows x 11 columns]"
            ]
          },
          "metadata": {
            "tags": []
          },
          "execution_count": 3
        }
      ]
    },
    {
      "cell_type": "code",
      "metadata": {
        "id": "iWqO40SNQwLT",
        "colab": {
          "base_uri": "https://localhost:8080/",
          "height": 204
        },
        "outputId": "74caa344-8d93-4ed0-e5f8-0f71008de1d1"
      },
      "source": [
        "data.tail()"
      ],
      "execution_count": null,
      "outputs": [
        {
          "output_type": "execute_result",
          "data": {
            "text/html": [
              "<div>\n",
              "<style scoped>\n",
              "    .dataframe tbody tr th:only-of-type {\n",
              "        vertical-align: middle;\n",
              "    }\n",
              "\n",
              "    .dataframe tbody tr th {\n",
              "        vertical-align: top;\n",
              "    }\n",
              "\n",
              "    .dataframe thead th {\n",
              "        text-align: right;\n",
              "    }\n",
              "</style>\n",
              "<table border=\"1\" class=\"dataframe\">\n",
              "  <thead>\n",
              "    <tr style=\"text-align: right;\">\n",
              "      <th></th>\n",
              "      <th>EventId</th>\n",
              "      <th>Occurrence Local Date Time</th>\n",
              "      <th>Reporting Agency</th>\n",
              "      <th>Cause</th>\n",
              "      <th>Subcause</th>\n",
              "      <th>Status</th>\n",
              "      <th>longitude</th>\n",
              "      <th>latitude</th>\n",
              "      <th>road_segment_id</th>\n",
              "      <th>isAccident</th>\n",
              "      <th>isPedestrian</th>\n",
              "    </tr>\n",
              "  </thead>\n",
              "  <tbody>\n",
              "    <tr>\n",
              "      <th>53840</th>\n",
              "      <td>152136</td>\n",
              "      <td>2018-12-31 21:14:00</td>\n",
              "      <td>Camera</td>\n",
              "      <td>Stationary Vehicle</td>\n",
              "      <td>Shoulder Lane</td>\n",
              "      <td>Closed</td>\n",
              "      <td>18.601735</td>\n",
              "      <td>-33.989120</td>\n",
              "      <td>CZBWW0Z</td>\n",
              "      <td>False</td>\n",
              "      <td>False</td>\n",
              "    </tr>\n",
              "    <tr>\n",
              "      <th>53841</th>\n",
              "      <td>152139</td>\n",
              "      <td>2018-12-31 21:33:00</td>\n",
              "      <td>Camera</td>\n",
              "      <td>Stationary Vehicle</td>\n",
              "      <td>Shoulder Lane</td>\n",
              "      <td>Closed</td>\n",
              "      <td>18.576595</td>\n",
              "      <td>-33.970978</td>\n",
              "      <td>7AKUBY4</td>\n",
              "      <td>False</td>\n",
              "      <td>False</td>\n",
              "    </tr>\n",
              "    <tr>\n",
              "      <th>53842</th>\n",
              "      <td>152142</td>\n",
              "      <td>2018-12-31 22:01:00</td>\n",
              "      <td>SAPS</td>\n",
              "      <td>Police and Military</td>\n",
              "      <td>Hijacking</td>\n",
              "      <td>Closed</td>\n",
              "      <td>18.658576</td>\n",
              "      <td>-33.949194</td>\n",
              "      <td>YQCBO2Y</td>\n",
              "      <td>False</td>\n",
              "      <td>False</td>\n",
              "    </tr>\n",
              "    <tr>\n",
              "      <th>53843</th>\n",
              "      <td>152143</td>\n",
              "      <td>2018-12-31 22:12:00</td>\n",
              "      <td>Camera</td>\n",
              "      <td>Stationary Vehicle</td>\n",
              "      <td>Shoulder Lane</td>\n",
              "      <td>Closed</td>\n",
              "      <td>18.625080</td>\n",
              "      <td>-33.888283</td>\n",
              "      <td>Z2OSI9E</td>\n",
              "      <td>False</td>\n",
              "      <td>False</td>\n",
              "    </tr>\n",
              "    <tr>\n",
              "      <th>53844</th>\n",
              "      <td>152149</td>\n",
              "      <td>2018-12-31 23:45:00</td>\n",
              "      <td>SAPS</td>\n",
              "      <td>Stationary Vehicle</td>\n",
              "      <td>Shoulder Lane</td>\n",
              "      <td>Closed</td>\n",
              "      <td>18.652948</td>\n",
              "      <td>-33.976858</td>\n",
              "      <td>GFX7S4B</td>\n",
              "      <td>False</td>\n",
              "      <td>False</td>\n",
              "    </tr>\n",
              "  </tbody>\n",
              "</table>\n",
              "</div>"
            ],
            "text/plain": [
              "       EventId Occurrence Local Date Time  ... isAccident isPedestrian\n",
              "53840   152136        2018-12-31 21:14:00  ...      False        False\n",
              "53841   152139        2018-12-31 21:33:00  ...      False        False\n",
              "53842   152142        2018-12-31 22:01:00  ...      False        False\n",
              "53843   152143        2018-12-31 22:12:00  ...      False        False\n",
              "53844   152149        2018-12-31 23:45:00  ...      False        False\n",
              "\n",
              "[5 rows x 11 columns]"
            ]
          },
          "metadata": {
            "tags": []
          },
          "execution_count": 4
        }
      ]
    },
    {
      "cell_type": "markdown",
      "metadata": {
        "id": "xDEwhcfaPPck"
      },
      "source": [
        "I'm splitting it up into train and test sets for local testing. When ready, re-do the steps training with all data and make predictions for the dates covered by Zindi's sample submission."
      ]
    },
    {
      "cell_type": "code",
      "metadata": {
        "id": "92KuU4co911M"
      },
      "source": [
        "# Train on 2017\n",
        "train = data.loc[data['Occurrence Local Date Time'] < '2018-04-01']\n",
        "\n",
        "# Test locally on the last part of 2018\n",
        "test = data.loc[data['Occurrence Local Date Time'] < '2019-01-01']\n",
        "test = test.loc[test['Occurrence Local Date Time'] >= '2018-09-01']"
      ],
      "execution_count": null,
      "outputs": []
    },
    {
      "cell_type": "code",
      "metadata": {
        "id": "c0ZVezhP96BA",
        "outputId": "207b6873-0cf8-457f-9b05-222bbcc788e4",
        "colab": {
          "base_uri": "https://localhost:8080/",
          "height": 423
        }
      },
      "source": [
        "# Create a dataframe with a column for each segment_id (sid)\n",
        "# Each row represents an hour.\n",
        "\n",
        "sids = data['road_segment_id'].unique()\n",
        "\n",
        "## <<<<<<<<<<<<<<<<<<<< Added dates, excluding missing data\n",
        "p1 = pd.date_range('2016-01-01',\n",
        "                    '2016-07-01',\n",
        "                    freq=\"1h\")\n",
        "p2 = pd.date_range('2016-09-01',\n",
        "                    '2018-04-01',\n",
        "                    freq=\"1h\")\n",
        "dts = p1.union(p2)\n",
        "\n",
        "tr = pd.DataFrame({'datetime':dts})\n",
        "\n",
        "for sid in sids:\n",
        "    tr[str(sid)] = 0\n",
        "    events = train.loc[train['road_segment_id'] == sid]\n",
        "    dts = events['Occurrence Local Date Time'].dt.round('H')\n",
        "    dates = dts.astype(str).unique()\n",
        "    tr.loc[tr['datetime'].isin(dates), sid] = 1\n",
        "tr.head()"
      ],
      "execution_count": null,
      "outputs": [
        {
          "output_type": "execute_result",
          "data": {
            "text/html": [
              "<div>\n",
              "<style scoped>\n",
              "    .dataframe tbody tr th:only-of-type {\n",
              "        vertical-align: middle;\n",
              "    }\n",
              "\n",
              "    .dataframe tbody tr th {\n",
              "        vertical-align: top;\n",
              "    }\n",
              "\n",
              "    .dataframe thead th {\n",
              "        text-align: right;\n",
              "    }\n",
              "</style>\n",
              "<table border=\"1\" class=\"dataframe\">\n",
              "  <thead>\n",
              "    <tr style=\"text-align: right;\">\n",
              "      <th></th>\n",
              "      <th>datetime</th>\n",
              "      <th>S0B3CGQ</th>\n",
              "      <th>RYJYAPI</th>\n",
              "      <th>U3KP57C</th>\n",
              "      <th>RY0TRQ8</th>\n",
              "      <th>8LOVJZ3</th>\n",
              "      <th>X4UA382</th>\n",
              "      <th>0QR8FDW</th>\n",
              "      <th>DZABHQW</th>\n",
              "      <th>EKZN1VM</th>\n",
              "      <th>H9XYX9Q</th>\n",
              "      <th>03RHJ3G</th>\n",
              "      <th>FTX7LB8</th>\n",
              "      <th>Q03FQ74</th>\n",
              "      <th>5AC6YRF</th>\n",
              "      <th>1RWEBRU</th>\n",
              "      <th>DCB3LQM</th>\n",
              "      <th>HN83F3L</th>\n",
              "      <th>SPPGKO2</th>\n",
              "      <th>C1ERJ22</th>\n",
              "      <th>AJRKP0C</th>\n",
              "      <th>UUZT4OE</th>\n",
              "      <th>WAC029P</th>\n",
              "      <th>JT4HGZ2</th>\n",
              "      <th>8Z5P9T1</th>\n",
              "      <th>UAXX1ZE</th>\n",
              "      <th>74A6FL0</th>\n",
              "      <th>2M1UBKJ</th>\n",
              "      <th>E5D3KEB</th>\n",
              "      <th>NQSL7FX</th>\n",
              "      <th>S200A1J</th>\n",
              "      <th>ETFFDX5</th>\n",
              "      <th>R6JUSZT</th>\n",
              "      <th>EDXK0HP</th>\n",
              "      <th>N5NO82G</th>\n",
              "      <th>5DHNI4S</th>\n",
              "      <th>VUYACXV</th>\n",
              "      <th>VMCY8BI</th>\n",
              "      <th>927BHUF</th>\n",
              "      <th>3MW0MN9</th>\n",
              "      <th>...</th>\n",
              "      <th>J8FAZRB</th>\n",
              "      <th>P66KAPS</th>\n",
              "      <th>CJJI1XY</th>\n",
              "      <th>K3N8ADC</th>\n",
              "      <th>SG89YSS</th>\n",
              "      <th>XYFQJ1Q</th>\n",
              "      <th>QTT8QNT</th>\n",
              "      <th>LC8FONX</th>\n",
              "      <th>WJXP54Z</th>\n",
              "      <th>GVQD9D6</th>\n",
              "      <th>64QSPWU</th>\n",
              "      <th>LRCHHQJ</th>\n",
              "      <th>Q2HCM1O</th>\n",
              "      <th>F055OA5</th>\n",
              "      <th>SY568EU</th>\n",
              "      <th>QBSA1OR</th>\n",
              "      <th>8YJIRQ2</th>\n",
              "      <th>KVOVDD8</th>\n",
              "      <th>H983665</th>\n",
              "      <th>7T2W8WU</th>\n",
              "      <th>4NSOFJG</th>\n",
              "      <th>4UAL23D</th>\n",
              "      <th>956JU5F</th>\n",
              "      <th>B8NRA4K</th>\n",
              "      <th>PH8DIYU</th>\n",
              "      <th>F47NAGJ</th>\n",
              "      <th>1NG8I9K</th>\n",
              "      <th>ZP9STNM</th>\n",
              "      <th>D3349RH</th>\n",
              "      <th>E4L0I98</th>\n",
              "      <th>YVR8GT6</th>\n",
              "      <th>ZAVM3PJ</th>\n",
              "      <th>DS4NLQE</th>\n",
              "      <th>HR19LL7</th>\n",
              "      <th>1451FOG</th>\n",
              "      <th>2ON8NSO</th>\n",
              "      <th>NFUEAN5</th>\n",
              "      <th>4T821GV</th>\n",
              "      <th>J6A19TW</th>\n",
              "      <th>43RCYZH</th>\n",
              "    </tr>\n",
              "  </thead>\n",
              "  <tbody>\n",
              "    <tr>\n",
              "      <th>0</th>\n",
              "      <td>2016-01-01 00:00:00</td>\n",
              "      <td>0</td>\n",
              "      <td>0</td>\n",
              "      <td>0</td>\n",
              "      <td>0</td>\n",
              "      <td>0</td>\n",
              "      <td>0</td>\n",
              "      <td>0</td>\n",
              "      <td>0</td>\n",
              "      <td>0</td>\n",
              "      <td>0</td>\n",
              "      <td>0</td>\n",
              "      <td>0</td>\n",
              "      <td>0</td>\n",
              "      <td>0</td>\n",
              "      <td>0</td>\n",
              "      <td>0</td>\n",
              "      <td>0</td>\n",
              "      <td>0</td>\n",
              "      <td>0</td>\n",
              "      <td>0</td>\n",
              "      <td>0</td>\n",
              "      <td>0</td>\n",
              "      <td>0</td>\n",
              "      <td>0</td>\n",
              "      <td>0</td>\n",
              "      <td>0</td>\n",
              "      <td>0</td>\n",
              "      <td>0</td>\n",
              "      <td>0</td>\n",
              "      <td>0</td>\n",
              "      <td>0</td>\n",
              "      <td>0</td>\n",
              "      <td>0</td>\n",
              "      <td>0</td>\n",
              "      <td>0</td>\n",
              "      <td>0</td>\n",
              "      <td>0</td>\n",
              "      <td>0</td>\n",
              "      <td>0</td>\n",
              "      <td>...</td>\n",
              "      <td>0</td>\n",
              "      <td>0</td>\n",
              "      <td>0</td>\n",
              "      <td>0</td>\n",
              "      <td>0</td>\n",
              "      <td>0</td>\n",
              "      <td>0</td>\n",
              "      <td>0</td>\n",
              "      <td>0</td>\n",
              "      <td>0</td>\n",
              "      <td>0</td>\n",
              "      <td>0</td>\n",
              "      <td>0</td>\n",
              "      <td>0</td>\n",
              "      <td>0</td>\n",
              "      <td>0</td>\n",
              "      <td>0</td>\n",
              "      <td>0</td>\n",
              "      <td>0</td>\n",
              "      <td>0</td>\n",
              "      <td>0</td>\n",
              "      <td>0</td>\n",
              "      <td>0</td>\n",
              "      <td>0</td>\n",
              "      <td>0</td>\n",
              "      <td>0</td>\n",
              "      <td>0</td>\n",
              "      <td>0</td>\n",
              "      <td>0</td>\n",
              "      <td>0</td>\n",
              "      <td>0</td>\n",
              "      <td>0</td>\n",
              "      <td>0</td>\n",
              "      <td>0</td>\n",
              "      <td>0</td>\n",
              "      <td>0</td>\n",
              "      <td>0</td>\n",
              "      <td>0</td>\n",
              "      <td>0</td>\n",
              "      <td>0</td>\n",
              "    </tr>\n",
              "    <tr>\n",
              "      <th>1</th>\n",
              "      <td>2016-01-01 01:00:00</td>\n",
              "      <td>1</td>\n",
              "      <td>1</td>\n",
              "      <td>0</td>\n",
              "      <td>0</td>\n",
              "      <td>0</td>\n",
              "      <td>0</td>\n",
              "      <td>0</td>\n",
              "      <td>0</td>\n",
              "      <td>0</td>\n",
              "      <td>0</td>\n",
              "      <td>0</td>\n",
              "      <td>0</td>\n",
              "      <td>0</td>\n",
              "      <td>0</td>\n",
              "      <td>0</td>\n",
              "      <td>0</td>\n",
              "      <td>0</td>\n",
              "      <td>0</td>\n",
              "      <td>0</td>\n",
              "      <td>0</td>\n",
              "      <td>0</td>\n",
              "      <td>0</td>\n",
              "      <td>0</td>\n",
              "      <td>0</td>\n",
              "      <td>0</td>\n",
              "      <td>0</td>\n",
              "      <td>0</td>\n",
              "      <td>0</td>\n",
              "      <td>0</td>\n",
              "      <td>0</td>\n",
              "      <td>0</td>\n",
              "      <td>0</td>\n",
              "      <td>0</td>\n",
              "      <td>0</td>\n",
              "      <td>0</td>\n",
              "      <td>0</td>\n",
              "      <td>0</td>\n",
              "      <td>0</td>\n",
              "      <td>0</td>\n",
              "      <td>...</td>\n",
              "      <td>0</td>\n",
              "      <td>0</td>\n",
              "      <td>0</td>\n",
              "      <td>0</td>\n",
              "      <td>0</td>\n",
              "      <td>0</td>\n",
              "      <td>0</td>\n",
              "      <td>0</td>\n",
              "      <td>0</td>\n",
              "      <td>0</td>\n",
              "      <td>0</td>\n",
              "      <td>0</td>\n",
              "      <td>0</td>\n",
              "      <td>0</td>\n",
              "      <td>0</td>\n",
              "      <td>0</td>\n",
              "      <td>0</td>\n",
              "      <td>0</td>\n",
              "      <td>0</td>\n",
              "      <td>0</td>\n",
              "      <td>0</td>\n",
              "      <td>0</td>\n",
              "      <td>0</td>\n",
              "      <td>0</td>\n",
              "      <td>0</td>\n",
              "      <td>0</td>\n",
              "      <td>0</td>\n",
              "      <td>0</td>\n",
              "      <td>0</td>\n",
              "      <td>0</td>\n",
              "      <td>0</td>\n",
              "      <td>0</td>\n",
              "      <td>0</td>\n",
              "      <td>0</td>\n",
              "      <td>0</td>\n",
              "      <td>0</td>\n",
              "      <td>0</td>\n",
              "      <td>0</td>\n",
              "      <td>0</td>\n",
              "      <td>0</td>\n",
              "    </tr>\n",
              "    <tr>\n",
              "      <th>2</th>\n",
              "      <td>2016-01-01 02:00:00</td>\n",
              "      <td>0</td>\n",
              "      <td>0</td>\n",
              "      <td>1</td>\n",
              "      <td>0</td>\n",
              "      <td>0</td>\n",
              "      <td>0</td>\n",
              "      <td>0</td>\n",
              "      <td>0</td>\n",
              "      <td>0</td>\n",
              "      <td>0</td>\n",
              "      <td>0</td>\n",
              "      <td>0</td>\n",
              "      <td>0</td>\n",
              "      <td>0</td>\n",
              "      <td>0</td>\n",
              "      <td>0</td>\n",
              "      <td>0</td>\n",
              "      <td>0</td>\n",
              "      <td>0</td>\n",
              "      <td>0</td>\n",
              "      <td>0</td>\n",
              "      <td>0</td>\n",
              "      <td>0</td>\n",
              "      <td>0</td>\n",
              "      <td>0</td>\n",
              "      <td>0</td>\n",
              "      <td>0</td>\n",
              "      <td>0</td>\n",
              "      <td>0</td>\n",
              "      <td>0</td>\n",
              "      <td>0</td>\n",
              "      <td>0</td>\n",
              "      <td>0</td>\n",
              "      <td>0</td>\n",
              "      <td>0</td>\n",
              "      <td>0</td>\n",
              "      <td>0</td>\n",
              "      <td>0</td>\n",
              "      <td>0</td>\n",
              "      <td>...</td>\n",
              "      <td>0</td>\n",
              "      <td>0</td>\n",
              "      <td>0</td>\n",
              "      <td>0</td>\n",
              "      <td>0</td>\n",
              "      <td>0</td>\n",
              "      <td>0</td>\n",
              "      <td>0</td>\n",
              "      <td>0</td>\n",
              "      <td>0</td>\n",
              "      <td>0</td>\n",
              "      <td>0</td>\n",
              "      <td>0</td>\n",
              "      <td>0</td>\n",
              "      <td>0</td>\n",
              "      <td>0</td>\n",
              "      <td>0</td>\n",
              "      <td>0</td>\n",
              "      <td>0</td>\n",
              "      <td>0</td>\n",
              "      <td>0</td>\n",
              "      <td>0</td>\n",
              "      <td>0</td>\n",
              "      <td>0</td>\n",
              "      <td>0</td>\n",
              "      <td>0</td>\n",
              "      <td>0</td>\n",
              "      <td>0</td>\n",
              "      <td>0</td>\n",
              "      <td>0</td>\n",
              "      <td>0</td>\n",
              "      <td>0</td>\n",
              "      <td>0</td>\n",
              "      <td>0</td>\n",
              "      <td>0</td>\n",
              "      <td>0</td>\n",
              "      <td>0</td>\n",
              "      <td>0</td>\n",
              "      <td>0</td>\n",
              "      <td>0</td>\n",
              "    </tr>\n",
              "    <tr>\n",
              "      <th>3</th>\n",
              "      <td>2016-01-01 03:00:00</td>\n",
              "      <td>0</td>\n",
              "      <td>0</td>\n",
              "      <td>0</td>\n",
              "      <td>1</td>\n",
              "      <td>0</td>\n",
              "      <td>0</td>\n",
              "      <td>0</td>\n",
              "      <td>0</td>\n",
              "      <td>0</td>\n",
              "      <td>0</td>\n",
              "      <td>0</td>\n",
              "      <td>0</td>\n",
              "      <td>0</td>\n",
              "      <td>0</td>\n",
              "      <td>0</td>\n",
              "      <td>0</td>\n",
              "      <td>0</td>\n",
              "      <td>0</td>\n",
              "      <td>0</td>\n",
              "      <td>0</td>\n",
              "      <td>0</td>\n",
              "      <td>0</td>\n",
              "      <td>0</td>\n",
              "      <td>0</td>\n",
              "      <td>0</td>\n",
              "      <td>0</td>\n",
              "      <td>0</td>\n",
              "      <td>0</td>\n",
              "      <td>0</td>\n",
              "      <td>0</td>\n",
              "      <td>0</td>\n",
              "      <td>0</td>\n",
              "      <td>0</td>\n",
              "      <td>0</td>\n",
              "      <td>0</td>\n",
              "      <td>0</td>\n",
              "      <td>0</td>\n",
              "      <td>0</td>\n",
              "      <td>0</td>\n",
              "      <td>...</td>\n",
              "      <td>0</td>\n",
              "      <td>0</td>\n",
              "      <td>0</td>\n",
              "      <td>0</td>\n",
              "      <td>0</td>\n",
              "      <td>0</td>\n",
              "      <td>0</td>\n",
              "      <td>0</td>\n",
              "      <td>0</td>\n",
              "      <td>0</td>\n",
              "      <td>0</td>\n",
              "      <td>0</td>\n",
              "      <td>0</td>\n",
              "      <td>0</td>\n",
              "      <td>0</td>\n",
              "      <td>0</td>\n",
              "      <td>0</td>\n",
              "      <td>0</td>\n",
              "      <td>0</td>\n",
              "      <td>0</td>\n",
              "      <td>0</td>\n",
              "      <td>0</td>\n",
              "      <td>0</td>\n",
              "      <td>0</td>\n",
              "      <td>0</td>\n",
              "      <td>0</td>\n",
              "      <td>0</td>\n",
              "      <td>0</td>\n",
              "      <td>0</td>\n",
              "      <td>0</td>\n",
              "      <td>0</td>\n",
              "      <td>0</td>\n",
              "      <td>0</td>\n",
              "      <td>0</td>\n",
              "      <td>0</td>\n",
              "      <td>0</td>\n",
              "      <td>0</td>\n",
              "      <td>0</td>\n",
              "      <td>0</td>\n",
              "      <td>0</td>\n",
              "    </tr>\n",
              "    <tr>\n",
              "      <th>4</th>\n",
              "      <td>2016-01-01 04:00:00</td>\n",
              "      <td>0</td>\n",
              "      <td>0</td>\n",
              "      <td>0</td>\n",
              "      <td>0</td>\n",
              "      <td>1</td>\n",
              "      <td>0</td>\n",
              "      <td>0</td>\n",
              "      <td>0</td>\n",
              "      <td>0</td>\n",
              "      <td>0</td>\n",
              "      <td>0</td>\n",
              "      <td>0</td>\n",
              "      <td>0</td>\n",
              "      <td>0</td>\n",
              "      <td>0</td>\n",
              "      <td>0</td>\n",
              "      <td>0</td>\n",
              "      <td>0</td>\n",
              "      <td>0</td>\n",
              "      <td>0</td>\n",
              "      <td>0</td>\n",
              "      <td>0</td>\n",
              "      <td>0</td>\n",
              "      <td>0</td>\n",
              "      <td>0</td>\n",
              "      <td>0</td>\n",
              "      <td>0</td>\n",
              "      <td>0</td>\n",
              "      <td>0</td>\n",
              "      <td>0</td>\n",
              "      <td>0</td>\n",
              "      <td>0</td>\n",
              "      <td>0</td>\n",
              "      <td>0</td>\n",
              "      <td>0</td>\n",
              "      <td>0</td>\n",
              "      <td>0</td>\n",
              "      <td>0</td>\n",
              "      <td>0</td>\n",
              "      <td>...</td>\n",
              "      <td>0</td>\n",
              "      <td>0</td>\n",
              "      <td>0</td>\n",
              "      <td>0</td>\n",
              "      <td>0</td>\n",
              "      <td>0</td>\n",
              "      <td>0</td>\n",
              "      <td>0</td>\n",
              "      <td>0</td>\n",
              "      <td>0</td>\n",
              "      <td>0</td>\n",
              "      <td>0</td>\n",
              "      <td>0</td>\n",
              "      <td>0</td>\n",
              "      <td>0</td>\n",
              "      <td>0</td>\n",
              "      <td>0</td>\n",
              "      <td>0</td>\n",
              "      <td>0</td>\n",
              "      <td>0</td>\n",
              "      <td>0</td>\n",
              "      <td>0</td>\n",
              "      <td>0</td>\n",
              "      <td>0</td>\n",
              "      <td>0</td>\n",
              "      <td>0</td>\n",
              "      <td>0</td>\n",
              "      <td>0</td>\n",
              "      <td>0</td>\n",
              "      <td>0</td>\n",
              "      <td>0</td>\n",
              "      <td>0</td>\n",
              "      <td>0</td>\n",
              "      <td>0</td>\n",
              "      <td>0</td>\n",
              "      <td>0</td>\n",
              "      <td>0</td>\n",
              "      <td>0</td>\n",
              "      <td>0</td>\n",
              "      <td>0</td>\n",
              "    </tr>\n",
              "  </tbody>\n",
              "</table>\n",
              "<p>5 rows × 545 columns</p>\n",
              "</div>"
            ],
            "text/plain": [
              "             datetime  S0B3CGQ  RYJYAPI  ...  4T821GV  J6A19TW  43RCYZH\n",
              "0 2016-01-01 00:00:00        0        0  ...        0        0        0\n",
              "1 2016-01-01 01:00:00        1        1  ...        0        0        0\n",
              "2 2016-01-01 02:00:00        0        0  ...        0        0        0\n",
              "3 2016-01-01 03:00:00        0        0  ...        0        0        0\n",
              "4 2016-01-01 04:00:00        0        0  ...        0        0        0\n",
              "\n",
              "[5 rows x 545 columns]"
            ]
          },
          "metadata": {
            "tags": []
          },
          "execution_count": 6
        }
      ]
    },
    {
      "cell_type": "code",
      "metadata": {
        "id": "6I_6sJ7b96RP",
        "outputId": "cd53d024-e77c-4a33-b8a9-e0897f2a278a",
        "colab": {
          "base_uri": "https://localhost:8080/",
          "height": 204
        }
      },
      "source": [
        "# Reshape this as in sample submission\n",
        "# I add some extra columns that may be useful\n",
        "train = pd.DataFrame({\n",
        "    'datetime x segment_id':np.concatenate([[str(x) + \" x \" + str(c)\n",
        "                                             for c in sids]\n",
        "                                            for x in tr['datetime']]),\n",
        "    'datetime':np.concatenate([[str(x) for c in sids] for x in tr['datetime']]),\n",
        "    'segment_id':np.concatenate([[str(c) for c in sids] for x in tr['datetime']]),\n",
        "    'y':tr[sids].values.flatten()\n",
        "})\n",
        "train.head()"
      ],
      "execution_count": null,
      "outputs": [
        {
          "output_type": "execute_result",
          "data": {
            "text/html": [
              "<div>\n",
              "<style scoped>\n",
              "    .dataframe tbody tr th:only-of-type {\n",
              "        vertical-align: middle;\n",
              "    }\n",
              "\n",
              "    .dataframe tbody tr th {\n",
              "        vertical-align: top;\n",
              "    }\n",
              "\n",
              "    .dataframe thead th {\n",
              "        text-align: right;\n",
              "    }\n",
              "</style>\n",
              "<table border=\"1\" class=\"dataframe\">\n",
              "  <thead>\n",
              "    <tr style=\"text-align: right;\">\n",
              "      <th></th>\n",
              "      <th>datetime x segment_id</th>\n",
              "      <th>datetime</th>\n",
              "      <th>segment_id</th>\n",
              "      <th>y</th>\n",
              "    </tr>\n",
              "  </thead>\n",
              "  <tbody>\n",
              "    <tr>\n",
              "      <th>0</th>\n",
              "      <td>2016-01-01 00:00:00 x S0B3CGQ</td>\n",
              "      <td>2016-01-01 00:00:00</td>\n",
              "      <td>S0B3CGQ</td>\n",
              "      <td>0</td>\n",
              "    </tr>\n",
              "    <tr>\n",
              "      <th>1</th>\n",
              "      <td>2016-01-01 00:00:00 x RYJYAPI</td>\n",
              "      <td>2016-01-01 00:00:00</td>\n",
              "      <td>RYJYAPI</td>\n",
              "      <td>0</td>\n",
              "    </tr>\n",
              "    <tr>\n",
              "      <th>2</th>\n",
              "      <td>2016-01-01 00:00:00 x U3KP57C</td>\n",
              "      <td>2016-01-01 00:00:00</td>\n",
              "      <td>U3KP57C</td>\n",
              "      <td>0</td>\n",
              "    </tr>\n",
              "    <tr>\n",
              "      <th>3</th>\n",
              "      <td>2016-01-01 00:00:00 x RY0TRQ8</td>\n",
              "      <td>2016-01-01 00:00:00</td>\n",
              "      <td>RY0TRQ8</td>\n",
              "      <td>0</td>\n",
              "    </tr>\n",
              "    <tr>\n",
              "      <th>4</th>\n",
              "      <td>2016-01-01 00:00:00 x 8LOVJZ3</td>\n",
              "      <td>2016-01-01 00:00:00</td>\n",
              "      <td>8LOVJZ3</td>\n",
              "      <td>0</td>\n",
              "    </tr>\n",
              "  </tbody>\n",
              "</table>\n",
              "</div>"
            ],
            "text/plain": [
              "           datetime x segment_id             datetime segment_id  y\n",
              "0  2016-01-01 00:00:00 x S0B3CGQ  2016-01-01 00:00:00    S0B3CGQ  0\n",
              "1  2016-01-01 00:00:00 x RYJYAPI  2016-01-01 00:00:00    RYJYAPI  0\n",
              "2  2016-01-01 00:00:00 x U3KP57C  2016-01-01 00:00:00    U3KP57C  0\n",
              "3  2016-01-01 00:00:00 x RY0TRQ8  2016-01-01 00:00:00    RY0TRQ8  0\n",
              "4  2016-01-01 00:00:00 x 8LOVJZ3  2016-01-01 00:00:00    8LOVJZ3  0"
            ]
          },
          "metadata": {
            "tags": []
          },
          "execution_count": 7
        }
      ]
    },
    {
      "cell_type": "code",
      "metadata": {
        "id": "cxyYPXM998St",
        "outputId": "4b3245b4-2b08-4573-aa98-93752b4df1df",
        "colab": {
          "base_uri": "https://localhost:8080/",
          "height": 204
        }
      },
      "source": [
        "# Same for test\n",
        "dts = pd.date_range('2018-09-01','2018-12-31',\n",
        "                    freq=\"1h\")\n",
        "tr = pd.DataFrame({'datetime':dts})\n",
        "\n",
        "for sid in sids:\n",
        "    tr[str(sid)] = 0\n",
        "    events = test.loc[test['road_segment_id'] == sid]\n",
        "    dts = events['Occurrence Local Date Time'].dt.round('H')\n",
        "    dates = dts.astype(str).unique()\n",
        "    tr.loc[tr['datetime'].isin(dates), sid] = 1\n",
        "\n",
        "test = pd.DataFrame({\n",
        "    'datetime x segment_id':np.concatenate([[str(x) + \" x \" + str(c)\n",
        "                                             for c in sids]\n",
        "                                            for x in tr['datetime']]),\n",
        "    'datetime':np.concatenate([[str(x) for c in sids] for x in tr['datetime']]),\n",
        "    'segment_id':np.concatenate([[str(c) for c in sids] for x in tr['datetime']]),\n",
        "    'y':tr[sids].values.flatten()\n",
        "})\n",
        "test.head()"
      ],
      "execution_count": null,
      "outputs": [
        {
          "output_type": "execute_result",
          "data": {
            "text/html": [
              "<div>\n",
              "<style scoped>\n",
              "    .dataframe tbody tr th:only-of-type {\n",
              "        vertical-align: middle;\n",
              "    }\n",
              "\n",
              "    .dataframe tbody tr th {\n",
              "        vertical-align: top;\n",
              "    }\n",
              "\n",
              "    .dataframe thead th {\n",
              "        text-align: right;\n",
              "    }\n",
              "</style>\n",
              "<table border=\"1\" class=\"dataframe\">\n",
              "  <thead>\n",
              "    <tr style=\"text-align: right;\">\n",
              "      <th></th>\n",
              "      <th>datetime x segment_id</th>\n",
              "      <th>datetime</th>\n",
              "      <th>segment_id</th>\n",
              "      <th>y</th>\n",
              "    </tr>\n",
              "  </thead>\n",
              "  <tbody>\n",
              "    <tr>\n",
              "      <th>0</th>\n",
              "      <td>2018-09-01 00:00:00 x S0B3CGQ</td>\n",
              "      <td>2018-09-01 00:00:00</td>\n",
              "      <td>S0B3CGQ</td>\n",
              "      <td>0</td>\n",
              "    </tr>\n",
              "    <tr>\n",
              "      <th>1</th>\n",
              "      <td>2018-09-01 00:00:00 x RYJYAPI</td>\n",
              "      <td>2018-09-01 00:00:00</td>\n",
              "      <td>RYJYAPI</td>\n",
              "      <td>0</td>\n",
              "    </tr>\n",
              "    <tr>\n",
              "      <th>2</th>\n",
              "      <td>2018-09-01 00:00:00 x U3KP57C</td>\n",
              "      <td>2018-09-01 00:00:00</td>\n",
              "      <td>U3KP57C</td>\n",
              "      <td>0</td>\n",
              "    </tr>\n",
              "    <tr>\n",
              "      <th>3</th>\n",
              "      <td>2018-09-01 00:00:00 x RY0TRQ8</td>\n",
              "      <td>2018-09-01 00:00:00</td>\n",
              "      <td>RY0TRQ8</td>\n",
              "      <td>0</td>\n",
              "    </tr>\n",
              "    <tr>\n",
              "      <th>4</th>\n",
              "      <td>2018-09-01 00:00:00 x 8LOVJZ3</td>\n",
              "      <td>2018-09-01 00:00:00</td>\n",
              "      <td>8LOVJZ3</td>\n",
              "      <td>0</td>\n",
              "    </tr>\n",
              "  </tbody>\n",
              "</table>\n",
              "</div>"
            ],
            "text/plain": [
              "           datetime x segment_id             datetime segment_id  y\n",
              "0  2018-09-01 00:00:00 x S0B3CGQ  2018-09-01 00:00:00    S0B3CGQ  0\n",
              "1  2018-09-01 00:00:00 x RYJYAPI  2018-09-01 00:00:00    RYJYAPI  0\n",
              "2  2018-09-01 00:00:00 x U3KP57C  2018-09-01 00:00:00    U3KP57C  0\n",
              "3  2018-09-01 00:00:00 x RY0TRQ8  2018-09-01 00:00:00    RY0TRQ8  0\n",
              "4  2018-09-01 00:00:00 x 8LOVJZ3  2018-09-01 00:00:00    8LOVJZ3  0"
            ]
          },
          "metadata": {
            "tags": []
          },
          "execution_count": 8
        }
      ]
    },
    {
      "cell_type": "markdown",
      "metadata": {
        "id": "QjjxS7zKP39a"
      },
      "source": [
        "# Adding info from road_segments.shp"
      ]
    },
    {
      "cell_type": "code",
      "metadata": {
        "id": "MYtQxSzj99yv",
        "outputId": "dafbca4d-8271-4bf7-b3ed-7deaaa246450",
        "colab": {
          "base_uri": "https://localhost:8080/",
          "height": 547
        }
      },
      "source": [
        "!pip install geopandas"
      ],
      "execution_count": null,
      "outputs": [
        {
          "output_type": "stream",
          "text": [
            "Collecting geopandas\n",
            "\u001b[?25l  Downloading https://files.pythonhosted.org/packages/59/39/de0263d511d4fc35a640cf00d02e497eb60698315a22936bedbdd904d7f7/geopandas-0.6.1-py2.py3-none-any.whl (918kB)\n",
            "\u001b[K     |████████████████████████████████| 921kB 2.8MB/s \n",
            "\u001b[?25hCollecting fiona (from geopandas)\n",
            "\u001b[?25l  Downloading https://files.pythonhosted.org/packages/1e/cf/a1f22d87223cb4f48beecf4de6eb59e5261a7d0d073489bbe7cfe6514ae3/Fiona-1.8.8-1-cp36-cp36m-manylinux1_x86_64.whl (11.9MB)\n",
            "\u001b[K     |████████████████████████████████| 11.9MB 35.7MB/s \n",
            "\u001b[?25hCollecting pyproj (from geopandas)\n",
            "\u001b[?25l  Downloading https://files.pythonhosted.org/packages/7a/b1/ab67ad924770e1c1432fa0953a665b8ea193b60c7494457b69da052d6e83/pyproj-2.4.0-cp36-cp36m-manylinux1_x86_64.whl (10.1MB)\n",
            "\u001b[K     |████████████████████████████████| 10.1MB 23.2MB/s \n",
            "\u001b[?25hRequirement already satisfied: pandas>=0.23.0 in /usr/local/lib/python3.6/dist-packages (from geopandas) (0.24.2)\n",
            "Requirement already satisfied: shapely in /usr/local/lib/python3.6/dist-packages (from geopandas) (1.6.4.post2)\n",
            "Requirement already satisfied: attrs>=17 in /usr/local/lib/python3.6/dist-packages (from fiona->geopandas) (19.3.0)\n",
            "Collecting click-plugins>=1.0 (from fiona->geopandas)\n",
            "  Downloading https://files.pythonhosted.org/packages/e9/da/824b92d9942f4e472702488857914bdd50f73021efea15b4cad9aca8ecef/click_plugins-1.1.1-py2.py3-none-any.whl\n",
            "Collecting cligj>=0.5 (from fiona->geopandas)\n",
            "  Downloading https://files.pythonhosted.org/packages/e4/be/30a58b4b0733850280d01f8bd132591b4668ed5c7046761098d665ac2174/cligj-0.5.0-py3-none-any.whl\n",
            "Collecting munch (from fiona->geopandas)\n",
            "  Downloading https://files.pythonhosted.org/packages/68/f4/260ec98ea840757a0da09e0ed8135333d59b8dfebe9752a365b04857660a/munch-2.3.2.tar.gz\n",
            "Requirement already satisfied: six>=1.7 in /usr/local/lib/python3.6/dist-packages (from fiona->geopandas) (1.12.0)\n",
            "Requirement already satisfied: click<8,>=4.0 in /usr/local/lib/python3.6/dist-packages (from fiona->geopandas) (7.0)\n",
            "Requirement already satisfied: numpy>=1.12.0 in /usr/local/lib/python3.6/dist-packages (from pandas>=0.23.0->geopandas) (1.16.5)\n",
            "Requirement already satisfied: pytz>=2011k in /usr/local/lib/python3.6/dist-packages (from pandas>=0.23.0->geopandas) (2018.9)\n",
            "Requirement already satisfied: python-dateutil>=2.5.0 in /usr/local/lib/python3.6/dist-packages (from pandas>=0.23.0->geopandas) (2.5.3)\n",
            "Building wheels for collected packages: munch\n",
            "  Building wheel for munch (setup.py) ... \u001b[?25l\u001b[?25hdone\n",
            "  Created wheel for munch: filename=munch-2.3.2-py2.py3-none-any.whl size=6614 sha256=05f9683c1afca5bef8bda9fa83a755df3ba16489c37761ee848f5190a1230f77\n",
            "  Stored in directory: /root/.cache/pip/wheels/db/bf/bc/06a3e1bfe0ab27d2e720ceb3cff3159398d92644c0cec2c125\n",
            "Successfully built munch\n",
            "Installing collected packages: click-plugins, cligj, munch, fiona, pyproj, geopandas\n",
            "Successfully installed click-plugins-1.1.1 cligj-0.5.0 fiona-1.8.8 geopandas-0.6.1 munch-2.3.2 pyproj-2.4.0\n"
          ],
          "name": "stdout"
        }
      ]
    },
    {
      "cell_type": "code",
      "metadata": {
        "id": "-M8cnEXT-Qpb",
        "outputId": "f4389e06-a9de-4601-ffc0-b5ce7a8cbccf",
        "colab": {
          "base_uri": "https://localhost:8080/",
          "height": 153
        }
      },
      "source": [
        "!unzip road_segments.zip"
      ],
      "execution_count": null,
      "outputs": [
        {
          "output_type": "stream",
          "text": [
            "Archive:  road_segments.zip\n",
            "   creating: road_segments/\n",
            "  inflating: road_segments/road_segments.shp  \n",
            "  inflating: road_segments/road_segments.qpj  \n",
            "  inflating: road_segments/road_segments.shx  \n",
            "  inflating: road_segments/road_segments.dbf  \n",
            "  inflating: road_segments/road_segments.cpg  \n",
            "  inflating: road_segments/road_segments.prj  \n"
          ],
          "name": "stdout"
        }
      ]
    },
    {
      "cell_type": "code",
      "metadata": {
        "id": "pprtYDcN-BwE",
        "outputId": "3f6dc2e8-c9d8-497b-edec-4ba95f5f9ba6",
        "colab": {
          "base_uri": "https://localhost:8080/",
          "height": 427
        }
      },
      "source": [
        "import geopandas as gpd\n",
        "road_segments = gpd.read_file('road_segments/road_segments.shp')\n",
        "road_segments.geometry.plot()\n",
        "road_segments.head()"
      ],
      "execution_count": null,
      "outputs": [
        {
          "output_type": "execute_result",
          "data": {
            "text/html": [
              "<div>\n",
              "<style scoped>\n",
              "    .dataframe tbody tr th:only-of-type {\n",
              "        vertical-align: middle;\n",
              "    }\n",
              "\n",
              "    .dataframe tbody tr th {\n",
              "        vertical-align: top;\n",
              "    }\n",
              "\n",
              "    .dataframe thead th {\n",
              "        text-align: right;\n",
              "    }\n",
              "</style>\n",
              "<table border=\"1\" class=\"dataframe\">\n",
              "  <thead>\n",
              "    <tr style=\"text-align: right;\">\n",
              "      <th></th>\n",
              "      <th>ROADNO</th>\n",
              "      <th>CLASS</th>\n",
              "      <th>REGION</th>\n",
              "      <th>WIDTH</th>\n",
              "      <th>LANES</th>\n",
              "      <th>SURFTYPE</th>\n",
              "      <th>PAVETYPE</th>\n",
              "      <th>CONDITION</th>\n",
              "      <th>length_1</th>\n",
              "      <th>segment_id</th>\n",
              "      <th>geometry</th>\n",
              "    </tr>\n",
              "  </thead>\n",
              "  <tbody>\n",
              "    <tr>\n",
              "      <th>0</th>\n",
              "      <td>R300</td>\n",
              "      <td>Primary</td>\n",
              "      <td>Western Cape</td>\n",
              "      <td>20.2</td>\n",
              "      <td>2</td>\n",
              "      <td>Paved</td>\n",
              "      <td>FLEX</td>\n",
              "      <td>Good</td>\n",
              "      <td>471.207</td>\n",
              "      <td>D1U6OOF</td>\n",
              "      <td>LINESTRING (18.65262 -33.97724, 18.65264 -33.9...</td>\n",
              "    </tr>\n",
              "    <tr>\n",
              "      <th>1</th>\n",
              "      <td>R300</td>\n",
              "      <td>Primary</td>\n",
              "      <td>Western Cape</td>\n",
              "      <td>20.2</td>\n",
              "      <td>2</td>\n",
              "      <td>Paved</td>\n",
              "      <td>FLEX</td>\n",
              "      <td>Good</td>\n",
              "      <td>471.207</td>\n",
              "      <td>NG4X2MD</td>\n",
              "      <td>LINESTRING (18.65347 -33.97309, 18.65347 -33.9...</td>\n",
              "    </tr>\n",
              "    <tr>\n",
              "      <th>2</th>\n",
              "      <td>R300</td>\n",
              "      <td>Primary</td>\n",
              "      <td>Western Cape</td>\n",
              "      <td>20.2</td>\n",
              "      <td>2</td>\n",
              "      <td>Paved</td>\n",
              "      <td>FLEX</td>\n",
              "      <td>Good</td>\n",
              "      <td>471.207</td>\n",
              "      <td>792705Z</td>\n",
              "      <td>LINESTRING (18.65431 -33.96894, 18.65432 -33.9...</td>\n",
              "    </tr>\n",
              "    <tr>\n",
              "      <th>3</th>\n",
              "      <td>R300</td>\n",
              "      <td>Primary</td>\n",
              "      <td>Western Cape</td>\n",
              "      <td>20.2</td>\n",
              "      <td>2</td>\n",
              "      <td>Paved</td>\n",
              "      <td>FLEX</td>\n",
              "      <td>Good</td>\n",
              "      <td>471.207</td>\n",
              "      <td>IK67XHB</td>\n",
              "      <td>LINESTRING (18.65515 -33.96480, 18.65517 -33.9...</td>\n",
              "    </tr>\n",
              "    <tr>\n",
              "      <th>4</th>\n",
              "      <td>R300</td>\n",
              "      <td>Primary</td>\n",
              "      <td>Western Cape</td>\n",
              "      <td>20.2</td>\n",
              "      <td>2</td>\n",
              "      <td>Paved</td>\n",
              "      <td>FLEX</td>\n",
              "      <td>Good</td>\n",
              "      <td>471.207</td>\n",
              "      <td>OWCF2MH</td>\n",
              "      <td>LINESTRING (18.65600 -33.96065, 18.65602 -33.9...</td>\n",
              "    </tr>\n",
              "  </tbody>\n",
              "</table>\n",
              "</div>"
            ],
            "text/plain": [
              "  ROADNO    CLASS  ... segment_id                                           geometry\n",
              "0   R300  Primary  ...    D1U6OOF  LINESTRING (18.65262 -33.97724, 18.65264 -33.9...\n",
              "1   R300  Primary  ...    NG4X2MD  LINESTRING (18.65347 -33.97309, 18.65347 -33.9...\n",
              "2   R300  Primary  ...    792705Z  LINESTRING (18.65431 -33.96894, 18.65432 -33.9...\n",
              "3   R300  Primary  ...    IK67XHB  LINESTRING (18.65515 -33.96480, 18.65517 -33.9...\n",
              "4   R300  Primary  ...    OWCF2MH  LINESTRING (18.65600 -33.96065, 18.65602 -33.9...\n",
              "\n",
              "[5 rows x 11 columns]"
            ]
          },
          "metadata": {
            "tags": []
          },
          "execution_count": 9
        },
        {
          "output_type": "display_data",
          "data": {
            "image/png": "[encoded data removed]",
            "text/plain": [
              "<Figure size 432x288 with 1 Axes>"
            ]
          },
          "metadata": {
            "tags": []
          }
        }
      ]
    },
    {
      "cell_type": "markdown",
      "metadata": {
        "id": "LoLwVA2PQQFD"
      },
      "source": [
        "# Getting locations of each segment"
      ]
    },
    {
      "cell_type": "code",
      "metadata": {
        "id": "vCSquqSx-EEp",
        "outputId": "1f1ecb7e-c723-4612-c5ba-a7973747ecd2",
        "colab": {
          "base_uri": "https://localhost:8080/",
          "height": 142
        }
      },
      "source": [
        "locations = data.groupby('road_segment_id').mean()[['longitude', 'latitude']]\n",
        "locations.head(2)"
      ],
      "execution_count": null,
      "outputs": [
        {
          "output_type": "execute_result",
          "data": {
            "text/html": [
              "<div>\n",
              "<style scoped>\n",
              "    .dataframe tbody tr th:only-of-type {\n",
              "        vertical-align: middle;\n",
              "    }\n",
              "\n",
              "    .dataframe tbody tr th {\n",
              "        vertical-align: top;\n",
              "    }\n",
              "\n",
              "    .dataframe thead th {\n",
              "        text-align: right;\n",
              "    }\n",
              "</style>\n",
              "<table border=\"1\" class=\"dataframe\">\n",
              "  <thead>\n",
              "    <tr style=\"text-align: right;\">\n",
              "      <th></th>\n",
              "      <th>longitude</th>\n",
              "      <th>latitude</th>\n",
              "    </tr>\n",
              "    <tr>\n",
              "      <th>road_segment_id</th>\n",
              "      <th></th>\n",
              "      <th></th>\n",
              "    </tr>\n",
              "  </thead>\n",
              "  <tbody>\n",
              "    <tr>\n",
              "      <th>03RHJ3G</th>\n",
              "      <td>18.460052</td>\n",
              "      <td>-33.943181</td>\n",
              "    </tr>\n",
              "    <tr>\n",
              "      <th>044ZYVD</th>\n",
              "      <td>18.555037</td>\n",
              "      <td>-33.890148</td>\n",
              "    </tr>\n",
              "  </tbody>\n",
              "</table>\n",
              "</div>"
            ],
            "text/plain": [
              "                 longitude   latitude\n",
              "road_segment_id                      \n",
              "03RHJ3G          18.460052 -33.943181\n",
              "044ZYVD          18.555037 -33.890148"
            ]
          },
          "metadata": {
            "tags": []
          },
          "execution_count": 10
        }
      ]
    },
    {
      "cell_type": "markdown",
      "metadata": {
        "id": "f5B_npsLQVOg"
      },
      "source": [
        "# Adding weather"
      ]
    },
    {
      "cell_type": "code",
      "metadata": {
        "id": "1uer0hMOQ85h",
        "outputId": "3ca5e680-cbe3-4ad6-ff51-c813d5cca171",
        "colab": {
          "base_uri": "https://localhost:8080/",
          "height": 306
        }
      },
      "source": [
        "w = pd.read_csv('weather.csv', sep=\";\", skiprows=6, usecols=range(14),\n",
        "               parse_dates=['Local time in Cape Town (airport)'])\n",
        "w.head()"
      ],
      "execution_count": null,
      "outputs": [
        {
          "output_type": "execute_result",
          "data": {
            "text/html": [
              "<div>\n",
              "<style scoped>\n",
              "    .dataframe tbody tr th:only-of-type {\n",
              "        vertical-align: middle;\n",
              "    }\n",
              "\n",
              "    .dataframe tbody tr th {\n",
              "        vertical-align: top;\n",
              "    }\n",
              "\n",
              "    .dataframe thead th {\n",
              "        text-align: right;\n",
              "    }\n",
              "</style>\n",
              "<table border=\"1\" class=\"dataframe\">\n",
              "  <thead>\n",
              "    <tr style=\"text-align: right;\">\n",
              "      <th></th>\n",
              "      <th>Local time in Cape Town (airport)</th>\n",
              "      <th>T</th>\n",
              "      <th>P0</th>\n",
              "      <th>P</th>\n",
              "      <th>U</th>\n",
              "      <th>DD</th>\n",
              "      <th>Ff</th>\n",
              "      <th>ff10</th>\n",
              "      <th>WW</th>\n",
              "      <th>W'W'</th>\n",
              "      <th>c</th>\n",
              "      <th>VV</th>\n",
              "      <th>Td</th>\n",
              "      <th>Unnamed: 13</th>\n",
              "    </tr>\n",
              "  </thead>\n",
              "  <tbody>\n",
              "    <tr>\n",
              "      <th>0</th>\n",
              "      <td>2019-04-04 23:00:00</td>\n",
              "      <td>15.0</td>\n",
              "      <td>762.0</td>\n",
              "      <td>765.8</td>\n",
              "      <td>77.0</td>\n",
              "      <td>Wind blowing from the south-southeast</td>\n",
              "      <td>6.0</td>\n",
              "      <td>NaN</td>\n",
              "      <td>NaN</td>\n",
              "      <td>NaN</td>\n",
              "      <td>Scattered clouds (40-50%) 720 m, broken clouds...</td>\n",
              "      <td>10.0 and more</td>\n",
              "      <td>11.0</td>\n",
              "      <td>NaN</td>\n",
              "    </tr>\n",
              "    <tr>\n",
              "      <th>1</th>\n",
              "      <td>2019-04-04 22:00:00</td>\n",
              "      <td>16.0</td>\n",
              "      <td>761.2</td>\n",
              "      <td>765.0</td>\n",
              "      <td>77.0</td>\n",
              "      <td>Wind blowing from the south-southeast</td>\n",
              "      <td>6.0</td>\n",
              "      <td>NaN</td>\n",
              "      <td>NaN</td>\n",
              "      <td>NaN</td>\n",
              "      <td>Scattered clouds (40-50%) 570 m, broken clouds...</td>\n",
              "      <td>10.0 and more</td>\n",
              "      <td>12.0</td>\n",
              "      <td>NaN</td>\n",
              "    </tr>\n",
              "    <tr>\n",
              "      <th>2</th>\n",
              "      <td>2019-04-04 21:59:00</td>\n",
              "      <td>16.0</td>\n",
              "      <td>761.2</td>\n",
              "      <td>765.0</td>\n",
              "      <td>77.0</td>\n",
              "      <td>Wind blowing from the south-southeast</td>\n",
              "      <td>6.0</td>\n",
              "      <td>NaN</td>\n",
              "      <td>NaN</td>\n",
              "      <td>NaN</td>\n",
              "      <td>Scattered clouds (40-50%) 570 m, broken clouds...</td>\n",
              "      <td>10.0 and more</td>\n",
              "      <td>12.0</td>\n",
              "      <td>NaN</td>\n",
              "    </tr>\n",
              "    <tr>\n",
              "      <th>3</th>\n",
              "      <td>2019-04-04 21:01:00</td>\n",
              "      <td>15.0</td>\n",
              "      <td>761.2</td>\n",
              "      <td>765.0</td>\n",
              "      <td>94.0</td>\n",
              "      <td>Wind blowing from the south-southeast</td>\n",
              "      <td>6.0</td>\n",
              "      <td>NaN</td>\n",
              "      <td>NaN</td>\n",
              "      <td>NaN</td>\n",
              "      <td>Scattered clouds (40-50%) 150 m, broken clouds...</td>\n",
              "      <td>10.0 and more</td>\n",
              "      <td>14.0</td>\n",
              "      <td>NaN</td>\n",
              "    </tr>\n",
              "    <tr>\n",
              "      <th>4</th>\n",
              "      <td>2019-04-04 21:00:00</td>\n",
              "      <td>15.0</td>\n",
              "      <td>761.2</td>\n",
              "      <td>765.0</td>\n",
              "      <td>94.0</td>\n",
              "      <td>Wind blowing from the south-southeast</td>\n",
              "      <td>6.0</td>\n",
              "      <td>NaN</td>\n",
              "      <td>NaN</td>\n",
              "      <td>NaN</td>\n",
              "      <td>Scattered clouds (40-50%) 150 m, broken clouds...</td>\n",
              "      <td>10.0 and more</td>\n",
              "      <td>14.0</td>\n",
              "      <td>NaN</td>\n",
              "    </tr>\n",
              "  </tbody>\n",
              "</table>\n",
              "</div>"
            ],
            "text/plain": [
              "  Local time in Cape Town (airport)     T  ...    Td  Unnamed: 13\n",
              "0               2019-04-04 23:00:00  15.0  ...  11.0          NaN\n",
              "1               2019-04-04 22:00:00  16.0  ...  12.0          NaN\n",
              "2               2019-04-04 21:59:00  16.0  ...  12.0          NaN\n",
              "3               2019-04-04 21:01:00  15.0  ...  14.0          NaN\n",
              "4               2019-04-04 21:00:00  15.0  ...  14.0          NaN\n",
              "\n",
              "[5 rows x 14 columns]"
            ]
          },
          "metadata": {
            "tags": []
          },
          "execution_count": 11
        }
      ]
    },
    {
      "cell_type": "code",
      "metadata": {
        "id": "MJ86pz8ivH5M"
      },
      "source": [
        "# Add weather\n",
        "w['dt'] = w['Local time in Cape Town (airport)'].dt.round('H')\n",
        "w_cols = ['dt', 'T', 'P0', 'P', 'U', 'Ff']"
      ],
      "execution_count": null,
      "outputs": []
    },
    {
      "cell_type": "markdown",
      "metadata": {
        "id": "vBoYAJA7QaxP"
      },
      "source": [
        "# Merge in the new data and add date vars etc"
      ]
    },
    {
      "cell_type": "code",
      "metadata": {
        "id": "gr2Wl9FK-GBc",
        "outputId": "74500425-303e-4fc2-b222-593fb05a2ddb",
        "colab": {
          "base_uri": "https://localhost:8080/",
          "height": 581
        }
      },
      "source": [
        "# Pre-process the train\n",
        "train['datetime'] = pd.to_datetime(train['datetime'])\n",
        "train['month'] = train['datetime'].dt.month\n",
        "train['day'] = train['datetime'].dt.weekday_name\n",
        "train['min'] = train['datetime'].dt.hour*60+train['datetime'].dt.minute\n",
        "train = pd.merge(train, road_segments, on='segment_id', how='left') # Segment info\n",
        "train = pd.merge(train, locations, left_on='segment_id', right_on='road_segment_id', how='left') # Segment locations\n",
        "train = pd.merge(train, w[w_cols], left_on='datetime', right_on='dt', how='left') # Weather\n",
        "\n",
        "# Pre-process the test to match train\n",
        "test['datetime'] = pd.to_datetime(test['datetime'])\n",
        "test['month'] = test['datetime'].dt.month\n",
        "test['day'] = test['datetime'].dt.weekday_name\n",
        "test['min'] = test['datetime'].dt.hour*60+test['datetime'].dt.minute\n",
        "test = pd.merge(test, road_segments, on='segment_id', how='left')\n",
        "test = pd.merge(test, locations, left_on='segment_id', right_on='road_segment_id', how='left')\n",
        "test = pd.merge(test, w[w_cols], left_on='datetime', right_on='dt', how='left')\n",
        "\n",
        "train.head()"
      ],
      "execution_count": null,
      "outputs": [
        {
          "output_type": "execute_result",
          "data": {
            "text/html": [
              "<div>\n",
              "<style scoped>\n",
              "    .dataframe tbody tr th:only-of-type {\n",
              "        vertical-align: middle;\n",
              "    }\n",
              "\n",
              "    .dataframe tbody tr th {\n",
              "        vertical-align: top;\n",
              "    }\n",
              "\n",
              "    .dataframe thead th {\n",
              "        text-align: right;\n",
              "    }\n",
              "</style>\n",
              "<table border=\"1\" class=\"dataframe\">\n",
              "  <thead>\n",
              "    <tr style=\"text-align: right;\">\n",
              "      <th></th>\n",
              "      <th>datetime x segment_id</th>\n",
              "      <th>datetime</th>\n",
              "      <th>segment_id</th>\n",
              "      <th>y</th>\n",
              "      <th>month</th>\n",
              "      <th>day</th>\n",
              "      <th>min</th>\n",
              "      <th>ROADNO</th>\n",
              "      <th>CLASS</th>\n",
              "      <th>REGION</th>\n",
              "      <th>WIDTH</th>\n",
              "      <th>LANES</th>\n",
              "      <th>SURFTYPE</th>\n",
              "      <th>PAVETYPE</th>\n",
              "      <th>CONDITION</th>\n",
              "      <th>length_1</th>\n",
              "      <th>geometry</th>\n",
              "      <th>longitude</th>\n",
              "      <th>latitude</th>\n",
              "      <th>dt</th>\n",
              "      <th>T</th>\n",
              "      <th>P0</th>\n",
              "      <th>P</th>\n",
              "      <th>U</th>\n",
              "      <th>Ff</th>\n",
              "    </tr>\n",
              "  </thead>\n",
              "  <tbody>\n",
              "    <tr>\n",
              "      <th>0</th>\n",
              "      <td>2016-01-01 00:00:00 x S0B3CGQ</td>\n",
              "      <td>2016-01-01</td>\n",
              "      <td>S0B3CGQ</td>\n",
              "      <td>0</td>\n",
              "      <td>1</td>\n",
              "      <td>Friday</td>\n",
              "      <td>0</td>\n",
              "      <td>N1</td>\n",
              "      <td>Primary</td>\n",
              "      <td>Western Cape</td>\n",
              "      <td>0.0</td>\n",
              "      <td>0</td>\n",
              "      <td>Paved</td>\n",
              "      <td>Unknown</td>\n",
              "      <td>Unknown</td>\n",
              "      <td>521.765</td>\n",
              "      <td>LINESTRING (18.54354 -33.89011, 18.54268 -33.8...</td>\n",
              "      <td>18.541422</td>\n",
              "      <td>-33.888613</td>\n",
              "      <td>2016-01-01</td>\n",
              "      <td>22.0</td>\n",
              "      <td>756.0</td>\n",
              "      <td>759.7</td>\n",
              "      <td>83.0</td>\n",
              "      <td>5.0</td>\n",
              "    </tr>\n",
              "    <tr>\n",
              "      <th>1</th>\n",
              "      <td>2016-01-01 00:00:00 x RYJYAPI</td>\n",
              "      <td>2016-01-01</td>\n",
              "      <td>RYJYAPI</td>\n",
              "      <td>0</td>\n",
              "      <td>1</td>\n",
              "      <td>Friday</td>\n",
              "      <td>0</td>\n",
              "      <td>N2</td>\n",
              "      <td>Primary</td>\n",
              "      <td>Western Cape</td>\n",
              "      <td>12.8</td>\n",
              "      <td>2</td>\n",
              "      <td>Paved</td>\n",
              "      <td>FLEX</td>\n",
              "      <td>Very Good</td>\n",
              "      <td>521.945</td>\n",
              "      <td>LINESTRING (18.93214 -34.13857, 18.93208 -34.1...</td>\n",
              "      <td>18.931088</td>\n",
              "      <td>-34.139930</td>\n",
              "      <td>2016-01-01</td>\n",
              "      <td>22.0</td>\n",
              "      <td>756.0</td>\n",
              "      <td>759.7</td>\n",
              "      <td>83.0</td>\n",
              "      <td>5.0</td>\n",
              "    </tr>\n",
              "    <tr>\n",
              "      <th>2</th>\n",
              "      <td>2016-01-01 00:00:00 x U3KP57C</td>\n",
              "      <td>2016-01-01</td>\n",
              "      <td>U3KP57C</td>\n",
              "      <td>0</td>\n",
              "      <td>1</td>\n",
              "      <td>Friday</td>\n",
              "      <td>0</td>\n",
              "      <td>N2</td>\n",
              "      <td>Primary</td>\n",
              "      <td>Western Cape</td>\n",
              "      <td>0.0</td>\n",
              "      <td>0</td>\n",
              "      <td>Paved</td>\n",
              "      <td>Unknown</td>\n",
              "      <td>Unknown</td>\n",
              "      <td>452.679</td>\n",
              "      <td>LINESTRING (18.55332 -33.95934, 18.54963 -33.9...</td>\n",
              "      <td>18.550771</td>\n",
              "      <td>-33.958279</td>\n",
              "      <td>2016-01-01</td>\n",
              "      <td>22.0</td>\n",
              "      <td>756.0</td>\n",
              "      <td>759.7</td>\n",
              "      <td>83.0</td>\n",
              "      <td>5.0</td>\n",
              "    </tr>\n",
              "    <tr>\n",
              "      <th>3</th>\n",
              "      <td>2016-01-01 00:00:00 x RY0TRQ8</td>\n",
              "      <td>2016-01-01</td>\n",
              "      <td>RY0TRQ8</td>\n",
              "      <td>0</td>\n",
              "      <td>1</td>\n",
              "      <td>Friday</td>\n",
              "      <td>0</td>\n",
              "      <td>R300</td>\n",
              "      <td>Primary</td>\n",
              "      <td>Western Cape</td>\n",
              "      <td>20.2</td>\n",
              "      <td>2</td>\n",
              "      <td>Paved</td>\n",
              "      <td>FLEX</td>\n",
              "      <td>Fair</td>\n",
              "      <td>493.974</td>\n",
              "      <td>LINESTRING (18.67690 -33.89936, 18.67691 -33.8...</td>\n",
              "      <td>18.677475</td>\n",
              "      <td>-33.896611</td>\n",
              "      <td>2016-01-01</td>\n",
              "      <td>22.0</td>\n",
              "      <td>756.0</td>\n",
              "      <td>759.7</td>\n",
              "      <td>83.0</td>\n",
              "      <td>5.0</td>\n",
              "    </tr>\n",
              "    <tr>\n",
              "      <th>4</th>\n",
              "      <td>2016-01-01 00:00:00 x 8LOVJZ3</td>\n",
              "      <td>2016-01-01</td>\n",
              "      <td>8LOVJZ3</td>\n",
              "      <td>0</td>\n",
              "      <td>1</td>\n",
              "      <td>Friday</td>\n",
              "      <td>0</td>\n",
              "      <td>N2</td>\n",
              "      <td>Primary</td>\n",
              "      <td>Western Cape</td>\n",
              "      <td>20.2</td>\n",
              "      <td>2</td>\n",
              "      <td>Paved</td>\n",
              "      <td>FLEX</td>\n",
              "      <td>Very Good</td>\n",
              "      <td>569.263</td>\n",
              "      <td>LINESTRING (18.83297 -34.08474, 18.83303 -34.0...</td>\n",
              "      <td>18.836121</td>\n",
              "      <td>-34.086109</td>\n",
              "      <td>2016-01-01</td>\n",
              "      <td>22.0</td>\n",
              "      <td>756.0</td>\n",
              "      <td>759.7</td>\n",
              "      <td>83.0</td>\n",
              "      <td>5.0</td>\n",
              "    </tr>\n",
              "  </tbody>\n",
              "</table>\n",
              "</div>"
            ],
            "text/plain": [
              "           datetime x segment_id   datetime segment_id  ...      P     U   Ff\n",
              "0  2016-01-01 00:00:00 x S0B3CGQ 2016-01-01    S0B3CGQ  ...  759.7  83.0  5.0\n",
              "1  2016-01-01 00:00:00 x RYJYAPI 2016-01-01    RYJYAPI  ...  759.7  83.0  5.0\n",
              "2  2016-01-01 00:00:00 x U3KP57C 2016-01-01    U3KP57C  ...  759.7  83.0  5.0\n",
              "3  2016-01-01 00:00:00 x RY0TRQ8 2016-01-01    RY0TRQ8  ...  759.7  83.0  5.0\n",
              "4  2016-01-01 00:00:00 x 8LOVJZ3 2016-01-01    8LOVJZ3  ...  759.7  83.0  5.0\n",
              "\n",
              "[5 rows x 25 columns]"
            ]
          },
          "metadata": {
            "tags": []
          },
          "execution_count": 13
        }
      ]
    },
    {
      "cell_type": "code",
      "metadata": {
        "id": "_0hr1pRwYZDE",
        "outputId": "44fdc345-ab14-4e17-bad0-a28e34c7c2e4",
        "colab": {
          "base_uri": "https://localhost:8080/",
          "height": 34
        }
      },
      "source": [
        "train.shape"
      ],
      "execution_count": null,
      "outputs": [
        {
          "output_type": "execute_result",
          "data": {
            "text/plain": [
              "(10744000, 25)"
            ]
          },
          "metadata": {
            "tags": []
          },
          "execution_count": 14
        }
      ]
    },
    {
      "cell_type": "code",
      "metadata": {
        "id": "w04JvG7OYc2m",
        "outputId": "a05cff29-a331-4584-8ad1-ce0bcd87d196",
        "colab": {
          "base_uri": "https://localhost:8080/",
          "height": 34
        }
      },
      "source": [
        "test.shape"
      ],
      "execution_count": null,
      "outputs": [
        {
          "output_type": "execute_result",
          "data": {
            "text/plain": [
              "(1759840, 25)"
            ]
          },
          "metadata": {
            "tags": []
          },
          "execution_count": 15
        }
      ]
    },
    {
      "cell_type": "markdown",
      "metadata": {
        "id": "pOnpJdsORfOk"
      },
      "source": [
        "# Create an equivalent dataset for submission"
      ]
    },
    {
      "cell_type": "code",
      "metadata": {
        "id": "Ep9VSJS3VZt4",
        "outputId": "60852e45-1311-4f73-a48d-50007f5ba95d",
        "colab": {
          "base_uri": "https://localhost:8080/",
          "height": 204
        }
      },
      "source": [
        "# Make the dataframe - dates based on sample submission file\n",
        "dts = pd.date_range('2019-01-01 01:00:00',\n",
        "                    '2019-03-31 23:00:00',\n",
        "                    freq=\"1h\")\n",
        "tr = pd.DataFrame({'datetime':dts})\n",
        "\n",
        "for sid in sids:\n",
        "    tr[str(sid)] = 0\n",
        "\n",
        "ss = pd.DataFrame({\n",
        "    'datetime x segment_id':np.concatenate([[str(x) + \" x \" + str(c)\n",
        "                                            for x in tr['datetime']for c in sids]]),\n",
        "    'datetime':np.concatenate([[str(x) for x in tr['datetime']for c in sids]]),\n",
        "    'segment_id':np.concatenate([[str(c) for x in tr['datetime']for c in sids]])\n",
        "})\n",
        "ss.head()"
      ],
      "execution_count": null,
      "outputs": [
        {
          "output_type": "execute_result",
          "data": {
            "text/html": [
              "<div>\n",
              "<style scoped>\n",
              "    .dataframe tbody tr th:only-of-type {\n",
              "        vertical-align: middle;\n",
              "    }\n",
              "\n",
              "    .dataframe tbody tr th {\n",
              "        vertical-align: top;\n",
              "    }\n",
              "\n",
              "    .dataframe thead th {\n",
              "        text-align: right;\n",
              "    }\n",
              "</style>\n",
              "<table border=\"1\" class=\"dataframe\">\n",
              "  <thead>\n",
              "    <tr style=\"text-align: right;\">\n",
              "      <th></th>\n",
              "      <th>datetime x segment_id</th>\n",
              "      <th>datetime</th>\n",
              "      <th>segment_id</th>\n",
              "    </tr>\n",
              "  </thead>\n",
              "  <tbody>\n",
              "    <tr>\n",
              "      <th>0</th>\n",
              "      <td>2019-01-01 01:00:00 x S0B3CGQ</td>\n",
              "      <td>2019-01-01 01:00:00</td>\n",
              "      <td>S0B3CGQ</td>\n",
              "    </tr>\n",
              "    <tr>\n",
              "      <th>1</th>\n",
              "      <td>2019-01-01 01:00:00 x RYJYAPI</td>\n",
              "      <td>2019-01-01 01:00:00</td>\n",
              "      <td>RYJYAPI</td>\n",
              "    </tr>\n",
              "    <tr>\n",
              "      <th>2</th>\n",
              "      <td>2019-01-01 01:00:00 x U3KP57C</td>\n",
              "      <td>2019-01-01 01:00:00</td>\n",
              "      <td>U3KP57C</td>\n",
              "    </tr>\n",
              "    <tr>\n",
              "      <th>3</th>\n",
              "      <td>2019-01-01 01:00:00 x RY0TRQ8</td>\n",
              "      <td>2019-01-01 01:00:00</td>\n",
              "      <td>RY0TRQ8</td>\n",
              "    </tr>\n",
              "    <tr>\n",
              "      <th>4</th>\n",
              "      <td>2019-01-01 01:00:00 x 8LOVJZ3</td>\n",
              "      <td>2019-01-01 01:00:00</td>\n",
              "      <td>8LOVJZ3</td>\n",
              "    </tr>\n",
              "  </tbody>\n",
              "</table>\n",
              "</div>"
            ],
            "text/plain": [
              "           datetime x segment_id             datetime segment_id\n",
              "0  2019-01-01 01:00:00 x S0B3CGQ  2019-01-01 01:00:00    S0B3CGQ\n",
              "1  2019-01-01 01:00:00 x RYJYAPI  2019-01-01 01:00:00    RYJYAPI\n",
              "2  2019-01-01 01:00:00 x U3KP57C  2019-01-01 01:00:00    U3KP57C\n",
              "3  2019-01-01 01:00:00 x RY0TRQ8  2019-01-01 01:00:00    RY0TRQ8\n",
              "4  2019-01-01 01:00:00 x 8LOVJZ3  2019-01-01 01:00:00    8LOVJZ3"
            ]
          },
          "metadata": {
            "tags": []
          },
          "execution_count": 16
        }
      ]
    },
    {
      "cell_type": "code",
      "metadata": {
        "id": "5mR0yidXVWDn",
        "outputId": "e994aaa3-4902-41e6-bac7-c1e2aa7f596d",
        "colab": {
          "base_uri": "https://localhost:8080/",
          "height": 581
        }
      },
      "source": [
        "# Add the extra features\n",
        "ss['datetime'] = pd.to_datetime(ss['datetime'])\n",
        "ss['day'] = ss['datetime'].dt.weekday_name\n",
        "ss['month'] = ss['datetime'].dt.month\n",
        "ss['min'] = ss['datetime'].dt.hour*60+ss['datetime'].dt.minute\n",
        "ss = pd.merge(ss, road_segments, on='segment_id', how='left')\n",
        "ss = pd.merge(ss, locations, left_on='segment_id', right_on='road_segment_id', how='left')\n",
        "ss = pd.merge(ss, w[w_cols], left_on='datetime', right_on='dt', how='left')\n",
        "ss['prediction'] = 0\n",
        "ss.head()"
      ],
      "execution_count": null,
      "outputs": [
        {
          "output_type": "execute_result",
          "data": {
            "text/html": [
              "<div>\n",
              "<style scoped>\n",
              "    .dataframe tbody tr th:only-of-type {\n",
              "        vertical-align: middle;\n",
              "    }\n",
              "\n",
              "    .dataframe tbody tr th {\n",
              "        vertical-align: top;\n",
              "    }\n",
              "\n",
              "    .dataframe thead th {\n",
              "        text-align: right;\n",
              "    }\n",
              "</style>\n",
              "<table border=\"1\" class=\"dataframe\">\n",
              "  <thead>\n",
              "    <tr style=\"text-align: right;\">\n",
              "      <th></th>\n",
              "      <th>datetime x segment_id</th>\n",
              "      <th>datetime</th>\n",
              "      <th>segment_id</th>\n",
              "      <th>day</th>\n",
              "      <th>month</th>\n",
              "      <th>min</th>\n",
              "      <th>ROADNO</th>\n",
              "      <th>CLASS</th>\n",
              "      <th>REGION</th>\n",
              "      <th>WIDTH</th>\n",
              "      <th>LANES</th>\n",
              "      <th>SURFTYPE</th>\n",
              "      <th>PAVETYPE</th>\n",
              "      <th>CONDITION</th>\n",
              "      <th>length_1</th>\n",
              "      <th>geometry</th>\n",
              "      <th>longitude</th>\n",
              "      <th>latitude</th>\n",
              "      <th>dt</th>\n",
              "      <th>T</th>\n",
              "      <th>P0</th>\n",
              "      <th>P</th>\n",
              "      <th>U</th>\n",
              "      <th>Ff</th>\n",
              "      <th>prediction</th>\n",
              "    </tr>\n",
              "  </thead>\n",
              "  <tbody>\n",
              "    <tr>\n",
              "      <th>0</th>\n",
              "      <td>2019-01-01 01:00:00 x S0B3CGQ</td>\n",
              "      <td>2019-01-01 01:00:00</td>\n",
              "      <td>S0B3CGQ</td>\n",
              "      <td>Tuesday</td>\n",
              "      <td>1</td>\n",
              "      <td>60</td>\n",
              "      <td>N1</td>\n",
              "      <td>Primary</td>\n",
              "      <td>Western Cape</td>\n",
              "      <td>0.0</td>\n",
              "      <td>0</td>\n",
              "      <td>Paved</td>\n",
              "      <td>Unknown</td>\n",
              "      <td>Unknown</td>\n",
              "      <td>521.765</td>\n",
              "      <td>LINESTRING (18.54354 -33.89011, 18.54268 -33.8...</td>\n",
              "      <td>18.541422</td>\n",
              "      <td>-33.888613</td>\n",
              "      <td>2019-01-01 01:00:00</td>\n",
              "      <td>19.0</td>\n",
              "      <td>756.8</td>\n",
              "      <td>760.5</td>\n",
              "      <td>88.0</td>\n",
              "      <td>5.0</td>\n",
              "      <td>0</td>\n",
              "    </tr>\n",
              "    <tr>\n",
              "      <th>1</th>\n",
              "      <td>2019-01-01 01:00:00 x RYJYAPI</td>\n",
              "      <td>2019-01-01 01:00:00</td>\n",
              "      <td>RYJYAPI</td>\n",
              "      <td>Tuesday</td>\n",
              "      <td>1</td>\n",
              "      <td>60</td>\n",
              "      <td>N2</td>\n",
              "      <td>Primary</td>\n",
              "      <td>Western Cape</td>\n",
              "      <td>12.8</td>\n",
              "      <td>2</td>\n",
              "      <td>Paved</td>\n",
              "      <td>FLEX</td>\n",
              "      <td>Very Good</td>\n",
              "      <td>521.945</td>\n",
              "      <td>LINESTRING (18.93214 -34.13857, 18.93208 -34.1...</td>\n",
              "      <td>18.931088</td>\n",
              "      <td>-34.139930</td>\n",
              "      <td>2019-01-01 01:00:00</td>\n",
              "      <td>19.0</td>\n",
              "      <td>756.8</td>\n",
              "      <td>760.5</td>\n",
              "      <td>88.0</td>\n",
              "      <td>5.0</td>\n",
              "      <td>0</td>\n",
              "    </tr>\n",
              "    <tr>\n",
              "      <th>2</th>\n",
              "      <td>2019-01-01 01:00:00 x U3KP57C</td>\n",
              "      <td>2019-01-01 01:00:00</td>\n",
              "      <td>U3KP57C</td>\n",
              "      <td>Tuesday</td>\n",
              "      <td>1</td>\n",
              "      <td>60</td>\n",
              "      <td>N2</td>\n",
              "      <td>Primary</td>\n",
              "      <td>Western Cape</td>\n",
              "      <td>0.0</td>\n",
              "      <td>0</td>\n",
              "      <td>Paved</td>\n",
              "      <td>Unknown</td>\n",
              "      <td>Unknown</td>\n",
              "      <td>452.679</td>\n",
              "      <td>LINESTRING (18.55332 -33.95934, 18.54963 -33.9...</td>\n",
              "      <td>18.550771</td>\n",
              "      <td>-33.958279</td>\n",
              "      <td>2019-01-01 01:00:00</td>\n",
              "      <td>19.0</td>\n",
              "      <td>756.8</td>\n",
              "      <td>760.5</td>\n",
              "      <td>88.0</td>\n",
              "      <td>5.0</td>\n",
              "      <td>0</td>\n",
              "    </tr>\n",
              "    <tr>\n",
              "      <th>3</th>\n",
              "      <td>2019-01-01 01:00:00 x RY0TRQ8</td>\n",
              "      <td>2019-01-01 01:00:00</td>\n",
              "      <td>RY0TRQ8</td>\n",
              "      <td>Tuesday</td>\n",
              "      <td>1</td>\n",
              "      <td>60</td>\n",
              "      <td>R300</td>\n",
              "      <td>Primary</td>\n",
              "      <td>Western Cape</td>\n",
              "      <td>20.2</td>\n",
              "      <td>2</td>\n",
              "      <td>Paved</td>\n",
              "      <td>FLEX</td>\n",
              "      <td>Fair</td>\n",
              "      <td>493.974</td>\n",
              "      <td>LINESTRING (18.67690 -33.89936, 18.67691 -33.8...</td>\n",
              "      <td>18.677475</td>\n",
              "      <td>-33.896611</td>\n",
              "      <td>2019-01-01 01:00:00</td>\n",
              "      <td>19.0</td>\n",
              "      <td>756.8</td>\n",
              "      <td>760.5</td>\n",
              "      <td>88.0</td>\n",
              "      <td>5.0</td>\n",
              "      <td>0</td>\n",
              "    </tr>\n",
              "    <tr>\n",
              "      <th>4</th>\n",
              "      <td>2019-01-01 01:00:00 x 8LOVJZ3</td>\n",
              "      <td>2019-01-01 01:00:00</td>\n",
              "      <td>8LOVJZ3</td>\n",
              "      <td>Tuesday</td>\n",
              "      <td>1</td>\n",
              "      <td>60</td>\n",
              "      <td>N2</td>\n",
              "      <td>Primary</td>\n",
              "      <td>Western Cape</td>\n",
              "      <td>20.2</td>\n",
              "      <td>2</td>\n",
              "      <td>Paved</td>\n",
              "      <td>FLEX</td>\n",
              "      <td>Very Good</td>\n",
              "      <td>569.263</td>\n",
              "      <td>LINESTRING (18.83297 -34.08474, 18.83303 -34.0...</td>\n",
              "      <td>18.836121</td>\n",
              "      <td>-34.086109</td>\n",
              "      <td>2019-01-01 01:00:00</td>\n",
              "      <td>19.0</td>\n",
              "      <td>756.8</td>\n",
              "      <td>760.5</td>\n",
              "      <td>88.0</td>\n",
              "      <td>5.0</td>\n",
              "      <td>0</td>\n",
              "    </tr>\n",
              "  </tbody>\n",
              "</table>\n",
              "</div>"
            ],
            "text/plain": [
              "           datetime x segment_id            datetime  ...   Ff prediction\n",
              "0  2019-01-01 01:00:00 x S0B3CGQ 2019-01-01 01:00:00  ...  5.0          0\n",
              "1  2019-01-01 01:00:00 x RYJYAPI 2019-01-01 01:00:00  ...  5.0          0\n",
              "2  2019-01-01 01:00:00 x U3KP57C 2019-01-01 01:00:00  ...  5.0          0\n",
              "3  2019-01-01 01:00:00 x RY0TRQ8 2019-01-01 01:00:00  ...  5.0          0\n",
              "4  2019-01-01 01:00:00 x 8LOVJZ3 2019-01-01 01:00:00  ...  5.0          0\n",
              "\n",
              "[5 rows x 25 columns]"
            ]
          },
          "metadata": {
            "tags": []
          },
          "execution_count": 17
        }
      ]
    },
    {
      "cell_type": "code",
      "metadata": {
        "id": "Kd5RQvBVYg19",
        "outputId": "af987d78-05cd-4f7d-a021-b569625d9e38",
        "colab": {
          "base_uri": "https://localhost:8080/",
          "height": 34
        }
      },
      "source": [
        "ss.shape"
      ],
      "execution_count": null,
      "outputs": [
        {
          "output_type": "execute_result",
          "data": {
            "text/plain": [
              "(1296896, 25)"
            ]
          },
          "metadata": {
            "tags": []
          },
          "execution_count": 17
        }
      ]
    },
    {
      "cell_type": "markdown",
      "metadata": {
        "id": "ygeHgFtHRmMz"
      },
      "source": [
        "# Listing the columns we've created and will use for modelling"
      ]
    },
    {
      "cell_type": "code",
      "metadata": {
        "id": "6uI4v8p6-bWk"
      },
      "source": [
        "x_cols = ['day', 'segment_id', 'min', 'longitude', 'latitude', 'ROADNO', 'length_1',  'LANES', 'CONDITION', 'month', 'T', 'P0', 'P', 'U', 'Ff']\n",
        "cat_cols = ['day', 'month', 'segment_id', 'ROADNO',  'LANES', 'CONDITION']"
      ],
      "execution_count": null,
      "outputs": []
    },
    {
      "cell_type": "markdown",
      "metadata": {
        "id": "IopN0tBL-vho"
      },
      "source": [
        "# Trying Fastai tabular"
      ]
    },
    {
      "cell_type": "code",
      "metadata": {
        "id": "JzL_velT-sdC"
      },
      "source": [
        "from fastai.tabular import *"
      ],
      "execution_count": null,
      "outputs": []
    },
    {
      "cell_type": "code",
      "metadata": {
        "id": "2NZJNPBS-yL4"
      },
      "source": [
        "dep_var = 'y'\n",
        "cat_names = cat_cols\n",
        "cont_names = [x for x in x_cols if x not in cat_cols]\n",
        "procs = [FillMissing, Categorify, Normalize]"
      ],
      "execution_count": null,
      "outputs": []
    },
    {
      "cell_type": "code",
      "metadata": {
        "id": "nk6E34gL_Itj"
      },
      "source": [
        "te = TabularList.from_df(test, cat_names=cat_names, cont_names=cont_names) # Change to ss after experimentation"
      ],
      "execution_count": null,
      "outputs": []
    },
    {
      "cell_type": "code",
      "metadata": {
        "id": "dP1oY_yP_N8e"
      },
      "source": [
        "data = (TabularList.from_df(train, cat_names=cat_names, cont_names=cont_names, procs=procs)\n",
        "                           .split_by_idx(list(range(int(train.shape[0]*0.9),train.shape[0])))\n",
        "                           .label_from_df(cols=dep_var)\n",
        "                           .add_test(te)\n",
        "                           .databunch(bs=5000))"
      ],
      "execution_count": null,
      "outputs": []
    },
    {
      "cell_type": "code",
      "metadata": {
        "id": "0-Sxkmu__5KK"
      },
      "source": [
        "learn = tabular_learner(data, layers=[200,100], metrics=accuracy)"
      ],
      "execution_count": null,
      "outputs": []
    },
    {
      "cell_type": "code",
      "metadata": {
        "id": "s4oLidUF_7UA",
        "outputId": "66dd8254-5188-4f4a-a585-497bebf5b1b3",
        "colab": {
          "base_uri": "https://localhost:8080/",
          "height": 34
        }
      },
      "source": [
        "learn.lr_find()"
      ],
      "execution_count": null,
      "outputs": [
        {
          "output_type": "display_data",
          "data": {
            "text/html": [
              ""
            ],
            "text/plain": [
              "<IPython.core.display.HTML object>"
            ]
          },
          "metadata": {
            "tags": []
          }
        },
        {
          "output_type": "stream",
          "text": [
            "LR Finder is complete, type {learner_name}.recorder.plot() to see the graph.\n"
          ],
          "name": "stdout"
        }
      ]
    },
    {
      "cell_type": "code",
      "metadata": {
        "id": "GnDBRlX2_916",
        "outputId": "eb75fa9f-3cee-483e-9630-59010ec90b58",
        "colab": {
          "base_uri": "https://localhost:8080/",
          "height": 283
        }
      },
      "source": [
        "learn.recorder.plot()"
      ],
      "execution_count": null,
      "outputs": [
        {
          "output_type": "display_data",
          "data": {
            "image/png": "[encoded data removed]",
            "text/plain": [
              "<Figure size 432x288 with 1 Axes>"
            ]
          },
          "metadata": {
            "tags": []
          }
        }
      ]
    },
    {
      "cell_type": "code",
      "metadata": {
        "id": "ouWbRJhfAEWQ",
        "outputId": "f71b3b28-e6fb-4746-a01d-340151f4ab61",
        "colab": {
          "base_uri": "https://localhost:8080/",
          "height": 142
        }
      },
      "source": [
        "learn.fit_one_cycle(3, slice(3e-2))"
      ],
      "execution_count": null,
      "outputs": [
        {
          "output_type": "display_data",
          "data": {
            "text/html": [
              "<table border=\"1\" class=\"dataframe\">\n",
              "  <thead>\n",
              "    <tr style=\"text-align: left;\">\n",
              "      <th>epoch</th>\n",
              "      <th>train_loss</th>\n",
              "      <th>valid_loss</th>\n",
              "      <th>accuracy</th>\n",
              "      <th>time</th>\n",
              "    </tr>\n",
              "  </thead>\n",
              "  <tbody>\n",
              "    <tr>\n",
              "      <td>0</td>\n",
              "      <td>0.020405</td>\n",
              "      <td>0.017474</td>\n",
              "      <td>0.996874</td>\n",
              "      <td>04:14</td>\n",
              "    </tr>\n",
              "    <tr>\n",
              "      <td>1</td>\n",
              "      <td>0.019218</td>\n",
              "      <td>0.016773</td>\n",
              "      <td>0.996874</td>\n",
              "      <td>04:14</td>\n",
              "    </tr>\n",
              "    <tr>\n",
              "      <td>2</td>\n",
              "      <td>0.018714</td>\n",
              "      <td>0.016712</td>\n",
              "      <td>0.996870</td>\n",
              "      <td>04:14</td>\n",
              "    </tr>\n",
              "  </tbody>\n",
              "</table>"
            ],
            "text/plain": [
              "<IPython.core.display.HTML object>"
            ]
          },
          "metadata": {
            "tags": []
          }
        }
      ]
    },
    {
      "cell_type": "code",
      "metadata": {
        "id": "Rp9UNXa0OOpG"
      },
      "source": [
        "predictions, *_ = learn.get_preds(DatasetType.Test)"
      ],
      "execution_count": null,
      "outputs": []
    },
    {
      "cell_type": "markdown",
      "metadata": {
        "id": "h8EADxxNSb8Z"
      },
      "source": [
        "# Tuning threshold to maximise F1 score:"
      ]
    },
    {
      "cell_type": "code",
      "metadata": {
        "id": "BCaURV-JT31j",
        "outputId": "155d6b35-3611-4b2a-b148-d625a78df17c",
        "colab": {
          "base_uri": "https://localhost:8080/",
          "height": 153
        }
      },
      "source": [
        "test['p'] = predictions[:,1]\n",
        "for t in [0.01, 0.03, 0.035, 0.04, 0.045, 0.05, 0.1, 0.3]:\n",
        "  test['pt'] = (test['p']>t).astype(int)\n",
        "  print('Threshold: ', t, 'F1:', f1_score(test['y'], test['pt']))"
      ],
      "execution_count": null,
      "outputs": [
        {
          "output_type": "stream",
          "text": [
            "Threshold:  0.01 F1: 0.06258443510071494\n",
            "Threshold:  0.03 F1: 0.08219036815509952\n",
            "Threshold:  0.035 F1: 0.08226900378754515\n",
            "Threshold:  0.04 F1: 0.0808614520282246\n",
            "Threshold:  0.045 F1: 0.08091782851498688\n",
            "Threshold:  0.05 F1: 0.08031522468142187\n",
            "Threshold:  0.1 F1: 0.06238721319927816\n",
            "Threshold:  0.3 F1: 0.02692212403997027\n"
          ],
          "name": "stdout"
        }
      ]
    },
    {
      "cell_type": "markdown",
      "metadata": {
        "id": "emU8by2zShN-"
      },
      "source": [
        "Refining more"
      ]
    },
    {
      "cell_type": "code",
      "metadata": {
        "id": "utk8ko6tXwnH",
        "outputId": "54feea68-3edf-417c-fe63-f2b313551a34",
        "colab": {
          "base_uri": "https://localhost:8080/",
          "height": 153
        }
      },
      "source": [
        "for t in [0.01, 0.025, 0.027, 0.029, 0.031, 0.033, 0.035, 0.037]:\n",
        "  test['pt'] = (test['p']>t).astype(int)\n",
        "  print(t, f1_score(test['y'], test['pt']))"
      ],
      "execution_count": null,
      "outputs": [
        {
          "output_type": "stream",
          "text": [
            "0.01 0.06258443510071494\n",
            "0.025 0.0803704175693471\n",
            "0.027 0.08150484761330427\n",
            "0.029 0.08147240491135062\n",
            "0.031 0.08248680476354668\n",
            "0.033 0.08166008569268252\n",
            "0.035 0.08226900378754515\n",
            "0.037 0.08255101726738281\n"
          ],
          "name": "stdout"
        }
      ]
    },
    {
      "cell_type": "markdown",
      "metadata": {
        "id": "JFgeZcsPSvzN"
      },
      "source": [
        "# Tuning, submission\n",
        "\n",
        "So you can see we're getting an F1 score aroud 0.082 on our test set. For some reason I tend to score higher on Zindi! To turn this into a submission, you can use the submission dataset (ss) as the test set for the learner, and then threshold the predicted probabilities based on the top value found above and use that as you submission. Before you do that, I sugest you play around with training for longer, adding different features, tweaking things further..... go crazy :) If you have questions, feel free to get hold of me or, better, post them in the discussions on Zindi. Good luck."
      ]
    },
    {
      "cell_type": "code",
      "metadata": {
        "id": "X9VvGgYpYTp4"
      },
      "source": [],
      "execution_count": null,
      "outputs": []
    }
  ]
}